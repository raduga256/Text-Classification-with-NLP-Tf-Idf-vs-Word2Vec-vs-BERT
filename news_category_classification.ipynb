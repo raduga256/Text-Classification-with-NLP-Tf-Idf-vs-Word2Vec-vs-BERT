{
  "nbformat": 4,
  "nbformat_minor": 0,
  "metadata": {
    "colab": {
      "name": "news_category_classification.ipynb",
      "provenance": [],
      "collapsed_sections": [],
      "mount_file_id": "1nPYEwh9cwLrSed_atsD1V-byOQQ-HUi3",
      "authorship_tag": "ABX9TyNQI6WfkqN55I9v1hr3Cyui",
      "include_colab_link": true
    },
    "kernelspec": {
      "name": "python3",
      "display_name": "Python 3"
    },
    "language_info": {
      "name": "python"
    },
    "accelerator": "GPU"
  },
  "cells": [
    {
      "cell_type": "markdown",
      "metadata": {
        "id": "view-in-github",
        "colab_type": "text"
      },
      "source": [
        "<a href=\"https://colab.research.google.com/github/raduga256/Text-Classification-with-NLP-Tf-Idf-vs-Word2Vec-vs-BERT/blob/main/news_category_classification.ipynb\" target=\"_parent\"><img src=\"https://colab.research.google.com/assets/colab-badge.svg\" alt=\"Open In Colab\"/></a>"
      ]
    },
    {
      "cell_type": "markdown",
      "metadata": {
        "id": "G5XbdRAMYm1v"
      },
      "source": [
        "## New Category Text Classification with NLP: Tf-Idf vs Word2Vec vs BERT"
      ]
    },
    {
      "cell_type": "markdown",
      "metadata": {
        "id": "KnbkJ6D6lZxB"
      },
      "source": [
        "There are different techniques to extract information from raw text data and use it to train a classification model. This tutorial compares the old school approach of Bag-of-Words (used with a simple machine learning algorithm), the popular Word Embedding model (used with a deep learning neural network), and the state of the art Language models (used with transfer learning from attention-based transformers) that have completely revolutionized the NLP landscape."
      ]
    },
    {
      "cell_type": "markdown",
      "metadata": {
        "id": "jVzN3kJOrPLt"
      },
      "source": [
        "This article yourself first appearance paper of LIME in certain seminars \"Why Should I Trust You?\": Explaining the Predictions of Any Classifierare based on a slide that was announced.\n",
        "https://irisu-inwl.github.io/reveal/lime\n",
        "\n",
        "However, because this slide there is a feeling that was made for those who do not know the machine learning, it was summarized as anew article."
      ]
    },
    {
      "cell_type": "code",
      "metadata": {
        "colab": {
          "base_uri": "https://localhost:8080/"
        },
        "id": "EVl6f51QrB1i",
        "outputId": "3fd82e5b-81bd-4071-fed1-c6ffc1cbd7b7"
      },
      "source": [
        "!pip -qq install lime"
      ],
      "execution_count": 1,
      "outputs": [
        {
          "output_type": "stream",
          "text": [
            "\u001b[?25l\r\u001b[K     |█▏                              | 10kB 27.4MB/s eta 0:00:01\r\u001b[K     |██▍                             | 20kB 14.7MB/s eta 0:00:01\r\u001b[K     |███▋                            | 30kB 12.7MB/s eta 0:00:01\r\u001b[K     |████▊                           | 40kB 11.8MB/s eta 0:00:01\r\u001b[K     |██████                          | 51kB 7.6MB/s eta 0:00:01\r\u001b[K     |███████▏                        | 61kB 8.1MB/s eta 0:00:01\r\u001b[K     |████████▎                       | 71kB 8.4MB/s eta 0:00:01\r\u001b[K     |█████████▌                      | 81kB 8.5MB/s eta 0:00:01\r\u001b[K     |██████████▊                     | 92kB 8.8MB/s eta 0:00:01\r\u001b[K     |███████████▉                    | 102kB 7.4MB/s eta 0:00:01\r\u001b[K     |█████████████                   | 112kB 7.4MB/s eta 0:00:01\r\u001b[K     |██████████████▎                 | 122kB 7.4MB/s eta 0:00:01\r\u001b[K     |███████████████▌                | 133kB 7.4MB/s eta 0:00:01\r\u001b[K     |████████████████▋               | 143kB 7.4MB/s eta 0:00:01\r\u001b[K     |█████████████████▉              | 153kB 7.4MB/s eta 0:00:01\r\u001b[K     |███████████████████             | 163kB 7.4MB/s eta 0:00:01\r\u001b[K     |████████████████████▏           | 174kB 7.4MB/s eta 0:00:01\r\u001b[K     |█████████████████████▍          | 184kB 7.4MB/s eta 0:00:01\r\u001b[K     |██████████████████████▋         | 194kB 7.4MB/s eta 0:00:01\r\u001b[K     |███████████████████████▊        | 204kB 7.4MB/s eta 0:00:01\r\u001b[K     |█████████████████████████       | 215kB 7.4MB/s eta 0:00:01\r\u001b[K     |██████████████████████████▏     | 225kB 7.4MB/s eta 0:00:01\r\u001b[K     |███████████████████████████▍    | 235kB 7.4MB/s eta 0:00:01\r\u001b[K     |████████████████████████████▌   | 245kB 7.4MB/s eta 0:00:01\r\u001b[K     |█████████████████████████████▊  | 256kB 7.4MB/s eta 0:00:01\r\u001b[K     |███████████████████████████████ | 266kB 7.4MB/s eta 0:00:01\r\u001b[K     |████████████████████████████████| 276kB 7.4MB/s \n",
            "\u001b[?25h  Building wheel for lime (setup.py) ... \u001b[?25l\u001b[?25hdone\n"
          ],
          "name": "stdout"
        }
      ]
    },
    {
      "cell_type": "code",
      "metadata": {
        "colab": {
          "base_uri": "https://localhost:8080/"
        },
        "id": "7c4utRfJrzko",
        "outputId": "5e810e5c-e10b-4d1b-b069-a3bc981aa452"
      },
      "source": [
        " # Installing the Tranformers Library\n",
        " !pip -qq install transformers"
      ],
      "execution_count": 2,
      "outputs": [
        {
          "output_type": "stream",
          "text": [
            "\u001b[K     |████████████████████████████████| 2.1MB 7.3MB/s \n",
            "\u001b[K     |████████████████████████████████| 3.3MB 38.7MB/s \n",
            "\u001b[K     |████████████████████████████████| 870kB 55.1MB/s \n",
            "\u001b[?25h  Building wheel for sacremoses (setup.py) ... \u001b[?25l\u001b[?25hdone\n"
          ],
          "name": "stdout"
        }
      ]
    },
    {
      "cell_type": "code",
      "metadata": {
        "id": "-vxwCPYfYe0g"
      },
      "source": [
        "# First of all, I need to import the following libraries:\n",
        "\n",
        "## for data\n",
        "import json\n",
        "import pandas as pd\n",
        "import numpy as np\n",
        "\n",
        "## for plotting\n",
        "import matplotlib.pyplot as plt\n",
        "import seaborn as sns\n",
        "\n",
        "## for processing\n",
        "import re\n",
        "import nltk\n",
        "\n",
        "## for bag-of-words\n",
        "from sklearn import metrics, feature_extraction, feature_selection, model_selection, naive_bayes, pipeline, manifold, preprocessing\n",
        "\n",
        "## for explainer\n",
        "from lime import lime_text\n",
        "\n",
        "## for word embedding\n",
        "import gensim\n",
        "import gensim.downloader as gensim_api\n",
        "\n",
        "## for deep learning\n",
        "from tensorflow.keras import models, layers, preprocessing as kprocessing\n",
        "from tensorflow.keras import backend as K\n",
        "\n",
        "## for bert language model\n",
        "import transformers\n"
      ],
      "execution_count": 33,
      "outputs": []
    },
    {
      "cell_type": "markdown",
      "metadata": {
        "id": "LTr47BgAttIs"
      },
      "source": [
        "The dataset is contained into a json file, so I will first read it into a list of dictionaries with json and then transform it into a pandas Dataframe."
      ]
    },
    {
      "cell_type": "code",
      "metadata": {
        "colab": {
          "base_uri": "https://localhost:8080/"
        },
        "id": "byOH5US-sZaA",
        "outputId": "2c94c562-9fb0-4fb3-97b1-44de1e7d7ecd"
      },
      "source": [
        "lst_dics = []\n",
        "gdrive_loc = '/content/drive/My Drive/Colab Notebooks/'\n",
        "with open(gdrive_loc+ \"News_Category_Dataset_v2.json\", mode='r', errors='ignore') as json_file :\n",
        "  for dic in json_file:\n",
        "    lst_dics.append(json.loads(dic))\n",
        "\n",
        "## print the first one\n",
        "lst_dics[0]"
      ],
      "execution_count": 4,
      "outputs": [
        {
          "output_type": "execute_result",
          "data": {
            "text/plain": [
              "{'authors': 'Melissa Jeltsen',\n",
              " 'category': 'CRIME',\n",
              " 'date': '2018-05-26',\n",
              " 'headline': 'There Were 2 Mass Shootings In Texas Last Week, But Only 1 On TV',\n",
              " 'link': 'https://www.huffingtonpost.com/entry/texas-amanda-painter-mass-shooting_us_5b081ab4e4b0802d69caad89',\n",
              " 'short_description': 'She left her husband. He killed their children. Just another day in America.'}"
            ]
          },
          "metadata": {
            "tags": []
          },
          "execution_count": 4
        }
      ]
    },
    {
      "cell_type": "markdown",
      "metadata": {
        "id": "bKlZXTPDzudz"
      },
      "source": [
        "The original dataset contains over 30 categories, but for the purposes of this project, I will work with a subset of 3: Entertainment, Politics, and Tech."
      ]
    },
    {
      "cell_type": "code",
      "metadata": {
        "colab": {
          "base_uri": "https://localhost:8080/",
          "height": 702
        },
        "id": "_eJOgDBkvfAT",
        "outputId": "5748479b-811f-4d16-e5d8-01e9e208282d"
      },
      "source": [
        "## create datafrmae dtf\n",
        "dtf = pd.DataFrame(lst_dics)\n",
        "\n",
        "## filter categories\n",
        "#dtf = dtf['category'].isin(['ENTERTAINMENT','POLITICS','TECH'])[[\"category\",\"headline\"]]\n",
        "\n",
        "## rename columns\n",
        "#dtf = dtf.rename(columns={\"category\":\"y\", \"headline\":\"text\"})\n",
        "\n",
        "## print random rows\n",
        "dtf.head(5)"
      ],
      "execution_count": 5,
      "outputs": [
        {
          "output_type": "execute_result",
          "data": {
            "text/html": [
              "<div>\n",
              "<style scoped>\n",
              "    .dataframe tbody tr th:only-of-type {\n",
              "        vertical-align: middle;\n",
              "    }\n",
              "\n",
              "    .dataframe tbody tr th {\n",
              "        vertical-align: top;\n",
              "    }\n",
              "\n",
              "    .dataframe thead th {\n",
              "        text-align: right;\n",
              "    }\n",
              "</style>\n",
              "<table border=\"1\" class=\"dataframe\">\n",
              "  <thead>\n",
              "    <tr style=\"text-align: right;\">\n",
              "      <th></th>\n",
              "      <th>category</th>\n",
              "      <th>headline</th>\n",
              "      <th>authors</th>\n",
              "      <th>link</th>\n",
              "      <th>short_description</th>\n",
              "      <th>date</th>\n",
              "    </tr>\n",
              "  </thead>\n",
              "  <tbody>\n",
              "    <tr>\n",
              "      <th>0</th>\n",
              "      <td>CRIME</td>\n",
              "      <td>There Were 2 Mass Shootings In Texas Last Week...</td>\n",
              "      <td>Melissa Jeltsen</td>\n",
              "      <td>https://www.huffingtonpost.com/entry/texas-ama...</td>\n",
              "      <td>She left her husband. He killed their children...</td>\n",
              "      <td>2018-05-26</td>\n",
              "    </tr>\n",
              "    <tr>\n",
              "      <th>1</th>\n",
              "      <td>ENTERTAINMENT</td>\n",
              "      <td>Will Smith Joins Diplo And Nicky Jam For The 2...</td>\n",
              "      <td>Andy McDonald</td>\n",
              "      <td>https://www.huffingtonpost.com/entry/will-smit...</td>\n",
              "      <td>Of course it has a song.</td>\n",
              "      <td>2018-05-26</td>\n",
              "    </tr>\n",
              "    <tr>\n",
              "      <th>2</th>\n",
              "      <td>ENTERTAINMENT</td>\n",
              "      <td>Hugh Grant Marries For The First Time At Age 57</td>\n",
              "      <td>Ron Dicker</td>\n",
              "      <td>https://www.huffingtonpost.com/entry/hugh-gran...</td>\n",
              "      <td>The actor and his longtime girlfriend Anna Ebe...</td>\n",
              "      <td>2018-05-26</td>\n",
              "    </tr>\n",
              "    <tr>\n",
              "      <th>3</th>\n",
              "      <td>ENTERTAINMENT</td>\n",
              "      <td>Jim Carrey Blasts 'Castrato' Adam Schiff And D...</td>\n",
              "      <td>Ron Dicker</td>\n",
              "      <td>https://www.huffingtonpost.com/entry/jim-carre...</td>\n",
              "      <td>The actor gives Dems an ass-kicking for not fi...</td>\n",
              "      <td>2018-05-26</td>\n",
              "    </tr>\n",
              "    <tr>\n",
              "      <th>4</th>\n",
              "      <td>ENTERTAINMENT</td>\n",
              "      <td>Julianna Margulies Uses Donald Trump Poop Bags...</td>\n",
              "      <td>Ron Dicker</td>\n",
              "      <td>https://www.huffingtonpost.com/entry/julianna-...</td>\n",
              "      <td>The \"Dietland\" actress said using the bags is ...</td>\n",
              "      <td>2018-05-26</td>\n",
              "    </tr>\n",
              "  </tbody>\n",
              "</table>\n",
              "</div>"
            ],
            "text/plain": [
              "        category  ...        date\n",
              "0          CRIME  ...  2018-05-26\n",
              "1  ENTERTAINMENT  ...  2018-05-26\n",
              "2  ENTERTAINMENT  ...  2018-05-26\n",
              "3  ENTERTAINMENT  ...  2018-05-26\n",
              "4  ENTERTAINMENT  ...  2018-05-26\n",
              "\n",
              "[5 rows x 6 columns]"
            ]
          },
          "metadata": {
            "tags": []
          },
          "execution_count": 5
        }
      ]
    },
    {
      "cell_type": "code",
      "metadata": {
        "colab": {
          "base_uri": "https://localhost:8080/",
          "height": 198
        },
        "id": "6f2cOfxUoZg4",
        "outputId": "ec16e014-fe8c-4840-cd72-bacf39045bfb"
      },
      "source": [
        "## filter categories\n",
        "dtf = dtf[ dtf[\"category\"].isin(['ENTERTAINMENT','POLITICS','TECH']) ][[\"category\",\"headline\"]]\n",
        "\n",
        "## rename columns\n",
        "#dtf = dtf.rename(columns={\"category\":\"y\", \"headline\":\"text\"})\n",
        "\n",
        "## print random rows\n",
        "dtf.head(5)"
      ],
      "execution_count": 6,
      "outputs": [
        {
          "output_type": "execute_result",
          "data": {
            "text/html": [
              "<div>\n",
              "<style scoped>\n",
              "    .dataframe tbody tr th:only-of-type {\n",
              "        vertical-align: middle;\n",
              "    }\n",
              "\n",
              "    .dataframe tbody tr th {\n",
              "        vertical-align: top;\n",
              "    }\n",
              "\n",
              "    .dataframe thead th {\n",
              "        text-align: right;\n",
              "    }\n",
              "</style>\n",
              "<table border=\"1\" class=\"dataframe\">\n",
              "  <thead>\n",
              "    <tr style=\"text-align: right;\">\n",
              "      <th></th>\n",
              "      <th>category</th>\n",
              "      <th>headline</th>\n",
              "    </tr>\n",
              "  </thead>\n",
              "  <tbody>\n",
              "    <tr>\n",
              "      <th>1</th>\n",
              "      <td>ENTERTAINMENT</td>\n",
              "      <td>Will Smith Joins Diplo And Nicky Jam For The 2...</td>\n",
              "    </tr>\n",
              "    <tr>\n",
              "      <th>2</th>\n",
              "      <td>ENTERTAINMENT</td>\n",
              "      <td>Hugh Grant Marries For The First Time At Age 57</td>\n",
              "    </tr>\n",
              "    <tr>\n",
              "      <th>3</th>\n",
              "      <td>ENTERTAINMENT</td>\n",
              "      <td>Jim Carrey Blasts 'Castrato' Adam Schiff And D...</td>\n",
              "    </tr>\n",
              "    <tr>\n",
              "      <th>4</th>\n",
              "      <td>ENTERTAINMENT</td>\n",
              "      <td>Julianna Margulies Uses Donald Trump Poop Bags...</td>\n",
              "    </tr>\n",
              "    <tr>\n",
              "      <th>5</th>\n",
              "      <td>ENTERTAINMENT</td>\n",
              "      <td>Morgan Freeman 'Devastated' That Sexual Harass...</td>\n",
              "    </tr>\n",
              "  </tbody>\n",
              "</table>\n",
              "</div>"
            ],
            "text/plain": [
              "        category                                           headline\n",
              "1  ENTERTAINMENT  Will Smith Joins Diplo And Nicky Jam For The 2...\n",
              "2  ENTERTAINMENT    Hugh Grant Marries For The First Time At Age 57\n",
              "3  ENTERTAINMENT  Jim Carrey Blasts 'Castrato' Adam Schiff And D...\n",
              "4  ENTERTAINMENT  Julianna Margulies Uses Donald Trump Poop Bags...\n",
              "5  ENTERTAINMENT  Morgan Freeman 'Devastated' That Sexual Harass..."
            ]
          },
          "metadata": {
            "tags": []
          },
          "execution_count": 6
        }
      ]
    },
    {
      "cell_type": "code",
      "metadata": {
        "colab": {
          "base_uri": "https://localhost:8080/",
          "height": 198
        },
        "id": "W_inAK4b37Ux",
        "outputId": "4416995f-729d-4450-fe1c-d184877bf51d"
      },
      "source": [
        "## rename columns\n",
        "dtf = dtf.rename(columns={\"category\":\"y\", \"headline\":\"text\"})\n",
        "dtf.sample(5)"
      ],
      "execution_count": 7,
      "outputs": [
        {
          "output_type": "execute_result",
          "data": {
            "text/html": [
              "<div>\n",
              "<style scoped>\n",
              "    .dataframe tbody tr th:only-of-type {\n",
              "        vertical-align: middle;\n",
              "    }\n",
              "\n",
              "    .dataframe tbody tr th {\n",
              "        vertical-align: top;\n",
              "    }\n",
              "\n",
              "    .dataframe thead th {\n",
              "        text-align: right;\n",
              "    }\n",
              "</style>\n",
              "<table border=\"1\" class=\"dataframe\">\n",
              "  <thead>\n",
              "    <tr style=\"text-align: right;\">\n",
              "      <th></th>\n",
              "      <th>y</th>\n",
              "      <th>text</th>\n",
              "    </tr>\n",
              "  </thead>\n",
              "  <tbody>\n",
              "    <tr>\n",
              "      <th>48609</th>\n",
              "      <td>ENTERTAINMENT</td>\n",
              "      <td>Netflix Supplies ‘Narcos’ Fans With 2 More Sea...</td>\n",
              "    </tr>\n",
              "    <tr>\n",
              "      <th>18742</th>\n",
              "      <td>POLITICS</td>\n",
              "      <td>The Testosterone-Fueled Presidency</td>\n",
              "    </tr>\n",
              "    <tr>\n",
              "      <th>45090</th>\n",
              "      <td>POLITICS</td>\n",
              "      <td>Republicans May Block Any Of Clinton's Supreme...</td>\n",
              "    </tr>\n",
              "    <tr>\n",
              "      <th>52326</th>\n",
              "      <td>POLITICS</td>\n",
              "      <td>Finally, Climate Change Gets Stage Time At The...</td>\n",
              "    </tr>\n",
              "    <tr>\n",
              "      <th>109031</th>\n",
              "      <td>POLITICS</td>\n",
              "      <td>Friday Talking Points -- Don't Panic</td>\n",
              "    </tr>\n",
              "  </tbody>\n",
              "</table>\n",
              "</div>"
            ],
            "text/plain": [
              "                    y                                               text\n",
              "48609   ENTERTAINMENT  Netflix Supplies ‘Narcos’ Fans With 2 More Sea...\n",
              "18742        POLITICS                 The Testosterone-Fueled Presidency\n",
              "45090        POLITICS  Republicans May Block Any Of Clinton's Supreme...\n",
              "52326        POLITICS  Finally, Climate Change Gets Stage Time At The...\n",
              "109031       POLITICS               Friday Talking Points -- Don't Panic"
            ]
          },
          "metadata": {
            "tags": []
          },
          "execution_count": 7
        }
      ]
    },
    {
      "cell_type": "markdown",
      "metadata": {
        "id": "JVc9qjDd4WwG"
      },
      "source": [
        "In order to understand the composition of the dataset, I am going to look into the univariate distribution of the target by showing labels frequency with a bar plot."
      ]
    },
    {
      "cell_type": "code",
      "metadata": {
        "colab": {
          "base_uri": "https://localhost:8080/",
          "height": 294
        },
        "id": "B6dgD0T94b2x",
        "outputId": "0c381a23-096b-49dd-dcb3-ed61ca4d1b18"
      },
      "source": [
        "fig, ax = plt.subplots()\n",
        "fig.suptitle(\"y\", fontsize=12)\n",
        "\n",
        "dtf[\"y\"].reset_index().groupby(\"y\").count().sort_values(by=\"index\").plot(kind=\"barh\", legend=False, ax=ax).grid(axis='x')\n",
        "                                                                         \n",
        "plt.show()"
      ],
      "execution_count": 8,
      "outputs": [
        {
          "output_type": "display_data",
          "data": {
            "image/png": "[encoded data removed]",
            "text/plain": [
              "<Figure size 432x288 with 1 Axes>"
            ]
          },
          "metadata": {
            "tags": [],
            "needs_background": "light"
          }
        }
      ]
    },
    {
      "cell_type": "markdown",
      "metadata": {
        "id": "vzHreSyC6bdK"
      },
      "source": [
        "The dataset is imbalanced: the proportion of Tech news is really small compared to the others, this will make for models to recognize Tech news rather tough.\n",
        "Before explaining and building the models, I am going to give an example of preprocessing by cleaning text, removing stop words, and applying lemmatization. I will write a function and apply it to the whole data set."
      ]
    },
    {
      "cell_type": "code",
      "metadata": {
        "id": "Sr3DXZ-d6mGo"
      },
      "source": [
        "'''\n",
        "Preprocess a string.\n",
        ":parameter\n",
        "    :param text: string - name of column containing text\n",
        "    :param 1st_stopwords: list - list of stopwords to remove\n",
        "    :param flg_stemm: bool - whether stemming is to be applied\n",
        "    :param flg_lemm: bool - whether lemmitisation is to be applied\n",
        ":return\n",
        "    cleaned text\n",
        "'''\n",
        "def utils_preprocess_text(text, flg_stemm=False, flg_lemm=True, lst_stopwords=None):\n",
        "  ## clean (convert to lowercase and remove puncuations and characters and then strip)\n",
        "  text = re.sub(r'[^\\w\\s]', '', str(text).lower().strip())\n",
        "\n",
        "  ## Tokenize (convert from string to list)\n",
        "  lst_text = text.split()\n",
        "\n",
        "  ## remove stopwords\n",
        "  if lst_stopwords is not None:\n",
        "    lst_text = [word for word in lst_text if word not in lst_stopwords]\n",
        "\n",
        "  ## Stemming (remove -ing, -ly, ...)\n",
        "  if flg_stemm == True:\n",
        "    ps = nltk.stem.porter.PorterStemmer()\n",
        "    lst_text = [ps.stem(word) for word in lst_text] \n",
        "\n",
        "  ## Lemmatisation(convert the word into root word)\n",
        "  if flg_lemm == True:\n",
        "    lem = nltk.stem.wordnet.WordNetLemmatizer()\n",
        "    lst_text = [lem.lemmatize(word) for word in lst_text]\n",
        "\n",
        "  ## back to string from list\n",
        "  text = \" \".join(lst_text)\n",
        "  return text"
      ],
      "execution_count": 9,
      "outputs": []
    },
    {
      "cell_type": "markdown",
      "metadata": {
        "id": "iVcCXAqXGn4W"
      },
      "source": [
        "That function removes a set of words from the corpus if given. I can create a list of generic stop words for the English vocabulary with nltk (we could edit this list by adding or removing words)."
      ]
    },
    {
      "cell_type": "code",
      "metadata": {
        "colab": {
          "base_uri": "https://localhost:8080/"
        },
        "id": "WL7Aec21Hpif",
        "outputId": "377d7e68-4868-4ca2-bc56-072f5dc171af"
      },
      "source": [
        "# Resource stopwords not found.\n",
        "# Please use the NLTK Downloader to obtain the resource:\n",
        "\n",
        "#import nltk\n",
        "nltk.download('stopwords')\n",
        "nltk.download('wordnet')"
      ],
      "execution_count": 10,
      "outputs": [
        {
          "output_type": "stream",
          "text": [
            "[nltk_data] Downloading package stopwords to /root/nltk_data...\n",
            "[nltk_data]   Unzipping corpora/stopwords.zip.\n",
            "[nltk_data] Downloading package wordnet to /root/nltk_data...\n",
            "[nltk_data]   Unzipping corpora/wordnet.zip.\n"
          ],
          "name": "stdout"
        },
        {
          "output_type": "execute_result",
          "data": {
            "text/plain": [
              "True"
            ]
          },
          "metadata": {
            "tags": []
          },
          "execution_count": 10
        }
      ]
    },
    {
      "cell_type": "code",
      "metadata": {
        "colab": {
          "base_uri": "https://localhost:8080/"
        },
        "id": "Ylc_lLytG7Yw",
        "outputId": "170d8a36-2f87-4390-e0d2-798d30d2efca"
      },
      "source": [
        "lst_stopwords = nltk.corpus.stopwords.words(\"english\")\n",
        "lst_stopwords"
      ],
      "execution_count": 11,
      "outputs": [
        {
          "output_type": "execute_result",
          "data": {
            "text/plain": [
              "['i',\n",
              " 'me',\n",
              " 'my',\n",
              " 'myself',\n",
              " 'we',\n",
              " 'our',\n",
              " 'ours',\n",
              " 'ourselves',\n",
              " 'you',\n",
              " \"you're\",\n",
              " \"you've\",\n",
              " \"you'll\",\n",
              " \"you'd\",\n",
              " 'your',\n",
              " 'yours',\n",
              " 'yourself',\n",
              " 'yourselves',\n",
              " 'he',\n",
              " 'him',\n",
              " 'his',\n",
              " 'himself',\n",
              " 'she',\n",
              " \"she's\",\n",
              " 'her',\n",
              " 'hers',\n",
              " 'herself',\n",
              " 'it',\n",
              " \"it's\",\n",
              " 'its',\n",
              " 'itself',\n",
              " 'they',\n",
              " 'them',\n",
              " 'their',\n",
              " 'theirs',\n",
              " 'themselves',\n",
              " 'what',\n",
              " 'which',\n",
              " 'who',\n",
              " 'whom',\n",
              " 'this',\n",
              " 'that',\n",
              " \"that'll\",\n",
              " 'these',\n",
              " 'those',\n",
              " 'am',\n",
              " 'is',\n",
              " 'are',\n",
              " 'was',\n",
              " 'were',\n",
              " 'be',\n",
              " 'been',\n",
              " 'being',\n",
              " 'have',\n",
              " 'has',\n",
              " 'had',\n",
              " 'having',\n",
              " 'do',\n",
              " 'does',\n",
              " 'did',\n",
              " 'doing',\n",
              " 'a',\n",
              " 'an',\n",
              " 'the',\n",
              " 'and',\n",
              " 'but',\n",
              " 'if',\n",
              " 'or',\n",
              " 'because',\n",
              " 'as',\n",
              " 'until',\n",
              " 'while',\n",
              " 'of',\n",
              " 'at',\n",
              " 'by',\n",
              " 'for',\n",
              " 'with',\n",
              " 'about',\n",
              " 'against',\n",
              " 'between',\n",
              " 'into',\n",
              " 'through',\n",
              " 'during',\n",
              " 'before',\n",
              " 'after',\n",
              " 'above',\n",
              " 'below',\n",
              " 'to',\n",
              " 'from',\n",
              " 'up',\n",
              " 'down',\n",
              " 'in',\n",
              " 'out',\n",
              " 'on',\n",
              " 'off',\n",
              " 'over',\n",
              " 'under',\n",
              " 'again',\n",
              " 'further',\n",
              " 'then',\n",
              " 'once',\n",
              " 'here',\n",
              " 'there',\n",
              " 'when',\n",
              " 'where',\n",
              " 'why',\n",
              " 'how',\n",
              " 'all',\n",
              " 'any',\n",
              " 'both',\n",
              " 'each',\n",
              " 'few',\n",
              " 'more',\n",
              " 'most',\n",
              " 'other',\n",
              " 'some',\n",
              " 'such',\n",
              " 'no',\n",
              " 'nor',\n",
              " 'not',\n",
              " 'only',\n",
              " 'own',\n",
              " 'same',\n",
              " 'so',\n",
              " 'than',\n",
              " 'too',\n",
              " 'very',\n",
              " 's',\n",
              " 't',\n",
              " 'can',\n",
              " 'will',\n",
              " 'just',\n",
              " 'don',\n",
              " \"don't\",\n",
              " 'should',\n",
              " \"should've\",\n",
              " 'now',\n",
              " 'd',\n",
              " 'll',\n",
              " 'm',\n",
              " 'o',\n",
              " 're',\n",
              " 've',\n",
              " 'y',\n",
              " 'ain',\n",
              " 'aren',\n",
              " \"aren't\",\n",
              " 'couldn',\n",
              " \"couldn't\",\n",
              " 'didn',\n",
              " \"didn't\",\n",
              " 'doesn',\n",
              " \"doesn't\",\n",
              " 'hadn',\n",
              " \"hadn't\",\n",
              " 'hasn',\n",
              " \"hasn't\",\n",
              " 'haven',\n",
              " \"haven't\",\n",
              " 'isn',\n",
              " \"isn't\",\n",
              " 'ma',\n",
              " 'mightn',\n",
              " \"mightn't\",\n",
              " 'mustn',\n",
              " \"mustn't\",\n",
              " 'needn',\n",
              " \"needn't\",\n",
              " 'shan',\n",
              " \"shan't\",\n",
              " 'shouldn',\n",
              " \"shouldn't\",\n",
              " 'wasn',\n",
              " \"wasn't\",\n",
              " 'weren',\n",
              " \"weren't\",\n",
              " 'won',\n",
              " \"won't\",\n",
              " 'wouldn',\n",
              " \"wouldn't\"]"
            ]
          },
          "metadata": {
            "tags": []
          },
          "execution_count": 11
        }
      ]
    },
    {
      "cell_type": "markdown",
      "metadata": {
        "id": "8pvNnB0cIReB"
      },
      "source": [
        "Now apply the function utils_preprocess_text on the whole dataset and store the result in a new column named “text_clean” so that you can choose to work with the raw corpus or the preprocessed text."
      ]
    },
    {
      "cell_type": "code",
      "metadata": {
        "colab": {
          "base_uri": "https://localhost:8080/",
          "height": 285
        },
        "id": "NvqsMYyoIiHx",
        "outputId": "1f5e73b0-6db6-4b1d-ae7b-cf9b4414e27f"
      },
      "source": [
        "dtf[\"text_clean\"] = dtf[\"text\"].apply(lambda x: utils_preprocess_text(x, flg_stemm=False, flg_lemm=True, lst_stopwords=lst_stopwords))\n",
        "\n",
        "dtf.head()"
      ],
      "execution_count": 12,
      "outputs": [
        {
          "output_type": "execute_result",
          "data": {
            "text/html": [
              "<div>\n",
              "<style scoped>\n",
              "    .dataframe tbody tr th:only-of-type {\n",
              "        vertical-align: middle;\n",
              "    }\n",
              "\n",
              "    .dataframe tbody tr th {\n",
              "        vertical-align: top;\n",
              "    }\n",
              "\n",
              "    .dataframe thead th {\n",
              "        text-align: right;\n",
              "    }\n",
              "</style>\n",
              "<table border=\"1\" class=\"dataframe\">\n",
              "  <thead>\n",
              "    <tr style=\"text-align: right;\">\n",
              "      <th></th>\n",
              "      <th>y</th>\n",
              "      <th>text</th>\n",
              "      <th>text_clean</th>\n",
              "    </tr>\n",
              "  </thead>\n",
              "  <tbody>\n",
              "    <tr>\n",
              "      <th>1</th>\n",
              "      <td>ENTERTAINMENT</td>\n",
              "      <td>Will Smith Joins Diplo And Nicky Jam For The 2...</td>\n",
              "      <td>smith join diplo nicky jam 2018 world cup offi...</td>\n",
              "    </tr>\n",
              "    <tr>\n",
              "      <th>2</th>\n",
              "      <td>ENTERTAINMENT</td>\n",
              "      <td>Hugh Grant Marries For The First Time At Age 57</td>\n",
              "      <td>hugh grant marries first time age 57</td>\n",
              "    </tr>\n",
              "    <tr>\n",
              "      <th>3</th>\n",
              "      <td>ENTERTAINMENT</td>\n",
              "      <td>Jim Carrey Blasts 'Castrato' Adam Schiff And D...</td>\n",
              "      <td>jim carrey blast castrato adam schiff democrat...</td>\n",
              "    </tr>\n",
              "    <tr>\n",
              "      <th>4</th>\n",
              "      <td>ENTERTAINMENT</td>\n",
              "      <td>Julianna Margulies Uses Donald Trump Poop Bags...</td>\n",
              "      <td>julianna margulies us donald trump poop bag pi...</td>\n",
              "    </tr>\n",
              "    <tr>\n",
              "      <th>5</th>\n",
              "      <td>ENTERTAINMENT</td>\n",
              "      <td>Morgan Freeman 'Devastated' That Sexual Harass...</td>\n",
              "      <td>morgan freeman devastated sexual harassment cl...</td>\n",
              "    </tr>\n",
              "  </tbody>\n",
              "</table>\n",
              "</div>"
            ],
            "text/plain": [
              "               y  ...                                         text_clean\n",
              "1  ENTERTAINMENT  ...  smith join diplo nicky jam 2018 world cup offi...\n",
              "2  ENTERTAINMENT  ...               hugh grant marries first time age 57\n",
              "3  ENTERTAINMENT  ...  jim carrey blast castrato adam schiff democrat...\n",
              "4  ENTERTAINMENT  ...  julianna margulies us donald trump poop bag pi...\n",
              "5  ENTERTAINMENT  ...  morgan freeman devastated sexual harassment cl...\n",
              "\n",
              "[5 rows x 3 columns]"
            ]
          },
          "metadata": {
            "tags": []
          },
          "execution_count": 12
        }
      ]
    },
    {
      "cell_type": "markdown",
      "metadata": {
        "id": "CFmTw-l8KIBo"
      },
      "source": [
        "I am going to partition the dataset into training set (70%) and test set (30%) in order to evaluate the models performance."
      ]
    },
    {
      "cell_type": "code",
      "metadata": {
        "id": "mZhLX1mIKJa2"
      },
      "source": [
        "## split dataset\n",
        "dtf_train, dtf_test = model_selection.train_test_split(dtf, test_size=0.3)\n",
        "\n",
        "## get target\n",
        "y_train = dtf_train[\"y\"].values\n",
        "y_test = dtf_test[\"y\"].values"
      ],
      "execution_count": 13,
      "outputs": []
    },
    {
      "cell_type": "code",
      "metadata": {
        "colab": {
          "base_uri": "https://localhost:8080/"
        },
        "id": "WdzivdwoLuGR",
        "outputId": "ef6e4133-b63f-4a78-c471-0c40cdf77b1f"
      },
      "source": [
        "type(y_test)"
      ],
      "execution_count": 17,
      "outputs": [
        {
          "output_type": "execute_result",
          "data": {
            "text/plain": [
              "numpy.ndarray"
            ]
          },
          "metadata": {
            "tags": []
          },
          "execution_count": 17
        }
      ]
    },
    {
      "cell_type": "markdown",
      "metadata": {
        "id": "4KlCGn5cMvZl"
      },
      "source": [
        "## Bag-of-Words"
      ]
    },
    {
      "cell_type": "markdown",
      "metadata": {
        "id": "YGlTrcDjM4q8"
      },
      "source": [
        "The Bag-of-Words model is simple: it builds a vocabulary from a corpus of documents and counts how many times the words appear in each document. To put it another way, each word in the vocabulary becomes a feature and a document is represented by a vector with the same length of the vocabulary (a “bag of words”)\n",
        "As you can imagine, this approach causes a significant dimensionality problem: the more documents you have the larger is the vocabulary, so the feature matrix will be a huge sparse matrix. Therefore, the Bag-of-Words model is usually preceded by an important preprocessing (word cleaning, stop words removal, stemming/lemmatization) aimed to reduce the dimensionality problem.\n",
        "Terms frequency is not necessarily the best representation for text. In fact, you can find in the corpus common words with the highest frequency but little predictive power over the target variable. To address this problem there is an advanced variant of the Bag-of-Words that, instead of simple counting, uses the term frequency–inverse document frequency (or Tf–Idf). Basically, the value of a word increases proportionally to count, but it is inversely proportional to the frequency of the word in the corpus."
      ]
    },
    {
      "cell_type": "markdown",
      "metadata": {
        "id": "AGQ7z_yeNUw6"
      },
      "source": [
        "### Feature Engineering\n",
        "Feature Engineering, the process to create features by extracting information from the data. I am going to use the Tf-Idf vectorizer with a limit of 10,000 words (so the length of my vocabulary will be 10k), capturing unigrams (i.e. “new” and “york”) and bigrams (i.e. “new york”)\n",
        "Code for the classic count vectorizer is as well provided:"
      ]
    },
    {
      "cell_type": "code",
      "metadata": {
        "id": "8zo4_w1ENs0G"
      },
      "source": [
        "## Count (classic BoW)\n",
        "vectorizer = feature_extraction.text.CountVectorizer(max_features=10000, ngram_range=(1,2))\n",
        "\n",
        "## TF-IDF (advanced variant of BoW)\n",
        "vectorizer = feature_extraction.text.TfidfVectorizer(max_features=10000, ngram_range=(1,2))\n"
      ],
      "execution_count": 14,
      "outputs": []
    },
    {
      "cell_type": "markdown",
      "metadata": {
        "id": "K2uImje9Pkyl"
      },
      "source": [
        "Now I will use the vectorizer on the preprocessed corpus of the train set to extract a vocabulary and create the feature matrix"
      ]
    },
    {
      "cell_type": "code",
      "metadata": {
        "id": "ZnmQB4d_PnhS"
      },
      "source": [
        "corpus = dtf_train[\"text_clean\"]\n",
        "\n",
        "vectorizer.fit(corpus)\n",
        "X_train = vectorizer.transform(corpus)\n",
        "dic_vocabulary = vectorizer.vocabulary_"
      ],
      "execution_count": 15,
      "outputs": []
    },
    {
      "cell_type": "code",
      "metadata": {
        "colab": {
          "base_uri": "https://localhost:8080/"
        },
        "id": "PcH4gGBNQI1a",
        "outputId": "9e6b0eec-800b-4d67-e278-41d5c78abe3f"
      },
      "source": [
        "X_train.shape"
      ],
      "execution_count": 16,
      "outputs": [
        {
          "output_type": "execute_result",
          "data": {
            "text/plain": [
              "(35615, 10000)"
            ]
          },
          "metadata": {
            "tags": []
          },
          "execution_count": 16
        }
      ]
    },
    {
      "cell_type": "markdown",
      "metadata": {
        "id": "15JU36AmQtdm"
      },
      "source": [
        "The feature matrix X_train has a shape of 34,265 (Number of documents in training) x 10,000 (Length of vocabulary) and it’s pretty sparse:"
      ]
    },
    {
      "cell_type": "code",
      "metadata": {
        "colab": {
          "base_uri": "https://localhost:8080/",
          "height": 299
        },
        "id": "Rnh9mo-EQyHk",
        "outputId": "a2c21057-51fb-4614-c491-00aa25962e23"
      },
      "source": [
        "##\n",
        "sns.heatmap(X_train.todense()[:, np.random.randint(0, X_train.shape[1], 100)]==0, vmin=0, vmax=1, cbar=False).set_title('Sparse Matrix Sample')"
      ],
      "execution_count": 17,
      "outputs": [
        {
          "output_type": "execute_result",
          "data": {
            "text/plain": [
              "Text(0.5, 1.0, 'Sparse Matrix Sample')"
            ]
          },
          "metadata": {
            "tags": []
          },
          "execution_count": 17
        },
        {
          "output_type": "display_data",
          "data": {
            "image/png": "[encoded data removed]",
            "text/plain": [
              "<Figure size 432x288 with 1 Axes>"
            ]
          },
          "metadata": {
            "tags": [],
            "needs_background": "light"
          }
        }
      ]
    },
    {
      "cell_type": "markdown",
      "metadata": {
        "id": "6MmWmdPy8emd"
      },
      "source": [
        "In order to know the position of a certain word, we can look it up in the vocabulary"
      ]
    },
    {
      "cell_type": "code",
      "metadata": {
        "colab": {
          "base_uri": "https://localhost:8080/"
        },
        "id": "bkVh8EhZ6QLf",
        "outputId": "d18b3755-4f77-4a23-f858-064e32bfb032"
      },
      "source": [
        "word = \"new york\"\n",
        "dic_vocabulary[word]"
      ],
      "execution_count": 18,
      "outputs": [
        {
          "output_type": "execute_result",
          "data": {
            "text/plain": [
              "6001"
            ]
          },
          "metadata": {
            "tags": []
          },
          "execution_count": 18
        }
      ]
    },
    {
      "cell_type": "markdown",
      "metadata": {
        "id": "6kvj3JpyMOax"
      },
      "source": [
        "If the word exists in the vocabulary, this command prints a number N, meaning that the Nth feature of the matrix is that word.\n",
        "\n",
        "## Dimensionality Reduction\n",
        "In order to drop some columns and reduce the matrix dimensionality, we can carry out some Feature Selection, the process of selecting a subset of relevant variables. I will proceed as follows:\n",
        "treat each category as binary (for example, the “Tech” category is 1 for the Tech news and 0 for the others);\n",
        "perform a Chi-Square test to determine whether a feature and the (binary) target are independent;\n",
        "keep only the features with a certain p-value from the Chi-Square test."
      ]
    },
    {
      "cell_type": "code",
      "metadata": {
        "id": "VLgjGOJ5MjJa"
      },
      "source": [
        "## BUG BUG ERROR ERROR NEEDS TO BE FIXED IN THIS CODE\n",
        "## DONOT RUN THIS CELL\n",
        "y = dtf_train[\"y\"]\n",
        "X_names = vectorizer.get_feature_names()\n",
        "p_value_limit = 0.95\n",
        "\n",
        "dtf_features = pd.DataFrame()\n",
        "for cat in np.unique(y):\n",
        "  chi2, p = feature_selection.chi2(X_train, y==cat)\n",
        "  dtf_features = dtf_features.append(pd.DataFrame({\"feature\":X_names, \"score\":1-p, \"y\":cat}))\n",
        "  dtf_features = dtf_features.sort_values([\"y\", \"score\"], ascending=[True, False])\n",
        "  dtf_features = dtf_features[dtf_features[\"score\"]>p_value_limit]\n",
        "\n",
        "  X_names = dtf_features[\"feature\"].unique().tolist()"
      ],
      "execution_count": 20,
      "outputs": []
    },
    {
      "cell_type": "code",
      "metadata": {
        "colab": {
          "base_uri": "https://localhost:8080/"
        },
        "id": "YtVpDkU5aSHz",
        "outputId": "ef35004c-7a53-44a6-ee23-024fe763ab1a"
      },
      "source": [
        "# all lists must be of same length\n",
        "print(len(X_names), len(y)) # Print all of them out here\n",
        "#len(np.unique(y))"
      ],
      "execution_count": 20,
      "outputs": [
        {
          "output_type": "stream",
          "text": [
            "3086 35615\n"
          ],
          "name": "stdout"
        }
      ]
    },
    {
      "cell_type": "markdown",
      "metadata": {
        "id": "YT68CbgEhwXI"
      },
      "source": [
        "I reduced the number of features from 10,000 to 3,152 by keeping the most statistically relevant ones. Let’s print some:"
      ]
    },
    {
      "cell_type": "code",
      "metadata": {
        "colab": {
          "base_uri": "https://localhost:8080/"
        },
        "id": "OROkQeCkb9Tf",
        "outputId": "7517f571-0b9b-497e-d6b2-2f6e5d12869c"
      },
      "source": [
        "for cat in np.unique(y):\n",
        "   print(\"# {}:\".format(cat))\n",
        "   print(\"  . selected features:\", len(dtf_features[dtf_features[\"y\"]==cat]))\n",
        "         \n",
        "   print(\"  . top features:\", \",\".join(\n",
        "dtf_features[dtf_features[\"y\"]==cat][\"feature\"].values[:10]))\n",
        "   print(\" \")"
      ],
      "execution_count": 28,
      "outputs": [
        {
          "output_type": "stream",
          "text": [
            "# ENTERTAINMENT:\n",
            "  . selected features: 3086\n",
            "  . top features: actor,album,award,box,box office,celebrity,clinton,dead,democrat,donald\n",
            " \n",
            "# POLITICS:\n",
            "  . selected features: 0\n",
            "  . top features: \n",
            " \n",
            "# TECH:\n",
            "  . selected features: 0\n",
            "  . top features: \n",
            " \n"
          ],
          "name": "stdout"
        }
      ]
    },
    {
      "cell_type": "markdown",
      "metadata": {
        "id": "Ckhw4RGwiEXY"
      },
      "source": [
        "We can refit the vectorizer on the corpus by giving this new set of words as input. That will produce a smaller feature matrix and a shorter vocabulary"
      ]
    },
    {
      "cell_type": "code",
      "metadata": {
        "id": "q1KHeEuCiLlL"
      },
      "source": [
        "vectorizer = feature_extraction.text.TfidfVectorizer(vocabulary=X_names)\n",
        "\n",
        "vectorizer.fit(corpus)\n",
        "X_train = vectorizer.transform(corpus)\n",
        "dic_vocabulary = vectorizer.vocabulary_"
      ],
      "execution_count": 29,
      "outputs": []
    },
    {
      "cell_type": "markdown",
      "metadata": {
        "id": "Sb2TtqrPizW2"
      },
      "source": [
        "The new feature matrix X_train has a shape of is 34,265 (Number of documents in training) x 3,152 (Length of the given vocabulary). Let’s see if the matrix is less sparse:"
      ]
    },
    {
      "cell_type": "markdown",
      "metadata": {
        "id": "Q0nZdv_Zi-z5"
      },
      "source": [
        "## Train Model\n",
        "It’s time to train a machine learning model and test it. I recommend using a Naive Bayes algorithm: a probabilistic classifier that makes use of Bayes’ Theorem, a rule that uses probability to make predictions based on prior knowledge of conditions that might be related. This algorithm is the most suitable for such large dataset as it considers each feature independently, calculates the probability of each category, and then predicts the category with the highest probability\n"
      ]
    },
    {
      "cell_type": "code",
      "metadata": {
        "id": "uS3MsDZejIQ6"
      },
      "source": [
        "classifier = naive_bayes.MultinomialNB()"
      ],
      "execution_count": 30,
      "outputs": []
    },
    {
      "cell_type": "markdown",
      "metadata": {
        "id": "5OTKNSBAjcd4"
      },
      "source": [
        "I’m going to train this classifier on the feature matrix and then test it on the transformed test set. To that end, I need to build a scikit-learn pipeline: a sequential application of a list of transformations and a final estimator. Putting the Tf-Idf vectorizer and the Naive Bayes classifier in a pipeline allows us to transform and predict test data in just one step."
      ]
    },
    {
      "cell_type": "code",
      "metadata": {
        "id": "-skIyxTyjd9u"
      },
      "source": [
        "## pipeline\n",
        "model = pipeline.Pipeline([(\"vectorizer\", vectorizer), (\"classifier\", classifier)])\n",
        "\n",
        "## train classifier\n",
        "model[\"classifier\"].fit(X_train, y_train)\n",
        "\n",
        "\n",
        "## test\n",
        "X_test = dtf_test[\"text_clean\"].values\n",
        "predicted = model.predict(X_test)\n",
        "predicted_prob = model.predict_proba(X_test)"
      ],
      "execution_count": 31,
      "outputs": []
    },
    {
      "cell_type": "markdown",
      "metadata": {
        "id": "TZ6nUZfptk_5"
      },
      "source": [
        "We can now evaluate the performance of the Bag-of-Words model, I will use the following metrics:\n",
        "  Accuracy: the fraction of predictions the model got right.\n",
        "  Confusion Matrix: a summary table that breaks down the number of correct and incorrect predictions by each class.\n",
        "  ROC: a plot that illustrates the true positive rate against the false positive rate at various threshold settings. The area under the curve (AUC) indicates the probability that the classifier will rank a randomly chosen positive observation higher than a randomly chosen negative one.\n",
        "  Precision: the fraction of relevant instances among the retrieved instances.\n",
        "Recall: the fraction of the total amount of relevant instances that were actually retrieved."
      ]
    },
    {
      "cell_type": "code",
      "metadata": {
        "colab": {
          "base_uri": "https://localhost:8080/",
          "height": 882
        },
        "id": "2dGkmMdztmzl",
        "outputId": "db83dab1-87bc-4bb7-c2c9-acfe62497099"
      },
      "source": [
        "classes = np.unique(y_test)\n",
        "y_test_array = pd.get_dummies(y_test, drop_first=False).values\n",
        "\n",
        "## Accuracy, Precision, Recall\n",
        "accuracy = metrics.accuracy_score(y_test, predicted)\n",
        "auc = metrics.roc_auc_score(y_test, predicted_prob, multi_class=\"ovr\")\n",
        "\n",
        "print(\"Accuracy : \", round(accuracy,2))\n",
        "print(\"AUC : \", round(auc,2))\n",
        "print(\"Detail : \")\n",
        "print(\"Detail : \")\n",
        "print(metrics.classification_report(y_test, predicted))\n",
        "\n",
        "## Plot Confusion Matrix\n",
        "cm = metrics.confusion_matrix(y_test, predicted)\n",
        "fig, ax = plt.subplots()\n",
        "sns.heatmap(cm, annot=True, fmt='d', ax=ax, cmap=plt.cm.Blues, cbar=False)\n",
        "ax.set(xlabel=\"Pred\", ylabel=\"True\", xticklabels=classes,yticklabels=classes, title=\"Confusion Matrix\")\n",
        "plt.yticks(rotation=0)\n",
        "\n",
        "fig, ax = plt.subplots(nrows=1, ncols=2)\n",
        "## Plot ROC\n",
        "for i in range(len(classes)):\n",
        "  fpr, tpr, thresholds = metrics.roc_curve(y_test_array[:,i], predicted_prob[:, i])\n",
        "  ax[0].plot([0,1], [0,1], color='navy', lw=3, linestyle='--')\n",
        "  ax[0].set(xlim=[-0.05, 1.0], ylim=[0.05, 1.05],\n",
        "            xlabel=\"False Positive Rate\",\n",
        "            ylabel=\"True Positive Rate(Recall)\",\n",
        "            title=\"Receiver operating charateristic\")\n",
        "  ax[0].legend(loc=\"lower right\")\n",
        "  ax[0].grid(True)\n",
        "\n",
        "## Plot precision-recall curve\n",
        "for i in range(len(classes)):\n",
        "  precision, recall, thresholds = metrics.precision_recall_curve(\n",
        "      y_test_array[:,i], predicted_prob[:,i]) \n",
        "  ax[1].plot(recall, precision, lw=3, label='{0} (area={1:0.2f})'.format(classes[i],\n",
        "                                                                         metrics.auc(recall, precision))\n",
        "  )\n",
        "  ax[1].set(xlim=[0.0,1.05], ylim=[0.0,1.05], xlabel='Recall', \n",
        "          ylabel=\"Precision\", title=\"Precision-Recall curve\")\n",
        "  ax[1].legend(loc=\"best\")\n",
        "  ax[1].grid(True)\n",
        "  plt.show()\n",
        "  \n",
        "  \n",
        "\n"
      ],
      "execution_count": 34,
      "outputs": [
        {
          "output_type": "stream",
          "text": [
            "Accuracy :  0.91\n",
            "AUC :  0.96\n",
            "Detail : \n",
            "Detail : \n"
          ],
          "name": "stdout"
        },
        {
          "output_type": "stream",
          "text": [
            "No handles with labels found to put in legend.\n",
            "No handles with labels found to put in legend.\n",
            "No handles with labels found to put in legend.\n"
          ],
          "name": "stderr"
        },
        {
          "output_type": "stream",
          "text": [
            "               precision    recall  f1-score   support\n",
            "\n",
            "ENTERTAINMENT       0.90      0.88      0.89      4808\n",
            "     POLITICS       0.91      0.97      0.94      9818\n",
            "         TECH       0.96      0.20      0.33       638\n",
            "\n",
            "     accuracy                           0.91     15264\n",
            "    macro avg       0.92      0.68      0.72     15264\n",
            " weighted avg       0.91      0.91      0.90     15264\n",
            "\n"
          ],
          "name": "stdout"
        },
        {
          "output_type": "display_data",
          "data": {
            "image/png": "[encoded data removed]",
            "text/plain": [
              "<Figure size 432x288 with 1 Axes>"
            ]
          },
          "metadata": {
            "tags": [],
            "needs_background": "light"
          }
        },
        {
          "output_type": "display_data",
          "data": {
            "image/png": "[encoded data removed]",
            "text/plain": [
              "<Figure size 432x288 with 2 Axes>"
            ]
          },
          "metadata": {
            "tags": [],
            "needs_background": "light"
          }
        }
      ]
    }
  ]
}