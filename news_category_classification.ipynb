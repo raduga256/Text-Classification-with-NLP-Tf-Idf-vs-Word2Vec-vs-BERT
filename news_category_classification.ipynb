{
  "nbformat": 4,
  "nbformat_minor": 0,
  "metadata": {
    "colab": {
      "name": "news_category_classification.ipynb",
      "provenance": [],
      "collapsed_sections": [],
      "mount_file_id": "1nPYEwh9cwLrSed_atsD1V-byOQQ-HUi3",
      "authorship_tag": "ABX9TyPJVpgjeDhN/l1B2yKK4WMG",
      "include_colab_link": true
    },
    "kernelspec": {
      "name": "python3",
      "display_name": "Python 3"
    },
    "language_info": {
      "name": "python"
    }
  },
  "cells": [
    {
      "cell_type": "markdown",
      "metadata": {
        "id": "view-in-github",
        "colab_type": "text"
      },
      "source": [
        "<a href=\"https://colab.research.google.com/github/raduga256/Text-Classification-with-NLP-Tf-Idf-vs-Word2Vec-vs-BERT/blob/main/news_category_classification.ipynb\" target=\"_parent\"><img src=\"https://colab.research.google.com/assets/colab-badge.svg\" alt=\"Open In Colab\"/></a>"
      ]
    },
    {
      "cell_type": "markdown",
      "metadata": {
        "id": "G5XbdRAMYm1v"
      },
      "source": [
        "## New Category Text Classification with NLP: Tf-Idf vs Word2Vec vs BERT"
      ]
    },
    {
      "cell_type": "markdown",
      "metadata": {
        "id": "KnbkJ6D6lZxB"
      },
      "source": [
        "There are different techniques to extract information from raw text data and use it to train a classification model. This tutorial compares the old school approach of Bag-of-Words (used with a simple machine learning algorithm), the popular Word Embedding model (used with a deep learning neural network), and the state of the art Language models (used with transfer learning from attention-based transformers) that have completely revolutionized the NLP landscape."
      ]
    },
    {
      "cell_type": "markdown",
      "metadata": {
        "id": "jVzN3kJOrPLt"
      },
      "source": [
        "This article yourself first appearance paper of LIME in certain seminars \"Why Should I Trust You?\": Explaining the Predictions of Any Classifierare based on a slide that was announced.\n",
        "https://irisu-inwl.github.io/reveal/lime\n",
        "\n",
        "However, because this slide there is a feeling that was made for those who do not know the machine learning, it was summarized as anew article."
      ]
    },
    {
      "cell_type": "code",
      "metadata": {
        "colab": {
          "base_uri": "https://localhost:8080/"
        },
        "id": "EVl6f51QrB1i",
        "outputId": "92859965-03cc-4e5f-b0a5-b421b14544b3"
      },
      "source": [
        "!pip -qq install lime"
      ],
      "execution_count": 2,
      "outputs": [
        {
          "output_type": "stream",
          "text": [
            "\u001b[?25l\r\u001b[K     |█▏                              | 10kB 12.3MB/s eta 0:00:01\r\u001b[K     |██▍                             | 20kB 13.0MB/s eta 0:00:01\r\u001b[K     |███▋                            | 30kB 9.0MB/s eta 0:00:01\r\u001b[K     |████▊                           | 40kB 7.6MB/s eta 0:00:01\r\u001b[K     |██████                          | 51kB 4.4MB/s eta 0:00:01\r\u001b[K     |███████▏                        | 61kB 4.9MB/s eta 0:00:01\r\u001b[K     |████████▎                       | 71kB 5.3MB/s eta 0:00:01\r\u001b[K     |█████████▌                      | 81kB 5.7MB/s eta 0:00:01\r\u001b[K     |██████████▊                     | 92kB 6.1MB/s eta 0:00:01\r\u001b[K     |███████████▉                    | 102kB 6.4MB/s eta 0:00:01\r\u001b[K     |█████████████                   | 112kB 6.4MB/s eta 0:00:01\r\u001b[K     |██████████████▎                 | 122kB 6.4MB/s eta 0:00:01\r\u001b[K     |███████████████▌                | 133kB 6.4MB/s eta 0:00:01\r\u001b[K     |████████████████▋               | 143kB 6.4MB/s eta 0:00:01\r\u001b[K     |█████████████████▉              | 153kB 6.4MB/s eta 0:00:01\r\u001b[K     |███████████████████             | 163kB 6.4MB/s eta 0:00:01\r\u001b[K     |████████████████████▏           | 174kB 6.4MB/s eta 0:00:01\r\u001b[K     |█████████████████████▍          | 184kB 6.4MB/s eta 0:00:01\r\u001b[K     |██████████████████████▋         | 194kB 6.4MB/s eta 0:00:01\r\u001b[K     |███████████████████████▊        | 204kB 6.4MB/s eta 0:00:01\r\u001b[K     |█████████████████████████       | 215kB 6.4MB/s eta 0:00:01\r\u001b[K     |██████████████████████████▏     | 225kB 6.4MB/s eta 0:00:01\r\u001b[K     |███████████████████████████▍    | 235kB 6.4MB/s eta 0:00:01\r\u001b[K     |████████████████████████████▌   | 245kB 6.4MB/s eta 0:00:01\r\u001b[K     |█████████████████████████████▊  | 256kB 6.4MB/s eta 0:00:01\r\u001b[K     |███████████████████████████████ | 266kB 6.4MB/s eta 0:00:01\r\u001b[K     |████████████████████████████████| 276kB 6.4MB/s \n",
            "\u001b[?25h  Building wheel for lime (setup.py) ... \u001b[?25l\u001b[?25hdone\n"
          ],
          "name": "stdout"
        }
      ]
    },
    {
      "cell_type": "code",
      "metadata": {
        "colab": {
          "base_uri": "https://localhost:8080/"
        },
        "id": "7c4utRfJrzko",
        "outputId": "34b13105-8f1d-4992-fd29-048bd025e480"
      },
      "source": [
        " # Installing the Tranformers Library\n",
        " !pip -qq install transformers"
      ],
      "execution_count": 3,
      "outputs": [
        {
          "output_type": "stream",
          "text": [
            "\u001b[K     |████████████████████████████████| 2.0MB 5.1MB/s \n",
            "\u001b[K     |████████████████████████████████| 3.2MB 27.2MB/s \n",
            "\u001b[K     |████████████████████████████████| 870kB 38.8MB/s \n",
            "\u001b[?25h  Building wheel for sacremoses (setup.py) ... \u001b[?25l\u001b[?25hdone\n"
          ],
          "name": "stdout"
        }
      ]
    },
    {
      "cell_type": "code",
      "metadata": {
        "id": "-vxwCPYfYe0g"
      },
      "source": [
        "# First of all, I need to import the following libraries:\n",
        "\n",
        "## for data\n",
        "import json\n",
        "import pandas as pd\n",
        "import numpy as np\n",
        "\n",
        "## for plotting\n",
        "import matplotlib.pyplot as plt\n",
        "import seaborn as sns\n",
        "\n",
        "## for processing\n",
        "import re\n",
        "import nltk\n",
        "\n",
        "## for bag-of-words\n",
        "from sklearn import feature_extraction, model_selection, naive_bayes, pipeline, manifold, preprocessing\n",
        "\n",
        "## for explainer\n",
        "from lime import lime_text\n",
        "\n",
        "## for word embedding\n",
        "import gensim\n",
        "import gensim.downloader as gensim_api\n",
        "\n",
        "## for deep learning\n",
        "from tensorflow.keras import models, layers, preprocessing as kprocessing\n",
        "from tensorflow.keras import backend as K\n",
        "\n",
        "## for bert language model\n",
        "import transformers\n"
      ],
      "execution_count": 31,
      "outputs": []
    },
    {
      "cell_type": "markdown",
      "metadata": {
        "id": "LTr47BgAttIs"
      },
      "source": [
        "The dataset is contained into a json file, so I will first read it into a list of dictionaries with json and then transform it into a pandas Dataframe."
      ]
    },
    {
      "cell_type": "code",
      "metadata": {
        "colab": {
          "base_uri": "https://localhost:8080/"
        },
        "id": "byOH5US-sZaA",
        "outputId": "e1c3ea3c-8250-4372-99d4-c8ef3ea02f58"
      },
      "source": [
        "lst_dics = []\n",
        "gdrive_loc = '/content/drive/My Drive/Colab Notebooks/'\n",
        "with open(gdrive_loc+ \"News_Category_Dataset_v2.json\", mode='r', errors='ignore') as json_file :\n",
        "  for dic in json_file:\n",
        "    lst_dics.append(json.loads(dic))\n",
        "\n",
        "## print the first one\n",
        "lst_dics[0]"
      ],
      "execution_count": 5,
      "outputs": [
        {
          "output_type": "execute_result",
          "data": {
            "text/plain": [
              "{'authors': 'Melissa Jeltsen',\n",
              " 'category': 'CRIME',\n",
              " 'date': '2018-05-26',\n",
              " 'headline': 'There Were 2 Mass Shootings In Texas Last Week, But Only 1 On TV',\n",
              " 'link': 'https://www.huffingtonpost.com/entry/texas-amanda-painter-mass-shooting_us_5b081ab4e4b0802d69caad89',\n",
              " 'short_description': 'She left her husband. He killed their children. Just another day in America.'}"
            ]
          },
          "metadata": {
            "tags": []
          },
          "execution_count": 5
        }
      ]
    },
    {
      "cell_type": "markdown",
      "metadata": {
        "id": "bKlZXTPDzudz"
      },
      "source": [
        "The original dataset contains over 30 categories, but for the purposes of this project, I will work with a subset of 3: Entertainment, Politics, and Tech."
      ]
    },
    {
      "cell_type": "code",
      "metadata": {
        "colab": {
          "base_uri": "https://localhost:8080/",
          "height": 285
        },
        "id": "_eJOgDBkvfAT",
        "outputId": "77c9a6c8-352c-4f9b-afe0-f5cd4adf35c7"
      },
      "source": [
        "## create datafrmae dtf\n",
        "dtf = pd.DataFrame(lst_dics)\n",
        "\n",
        "## filter categories\n",
        "#dtf = dtf['category'].isin(['ENTERTAINMENT','POLITICS','TECH'])[[\"category\",\"headline\"]]\n",
        "\n",
        "## rename columns\n",
        "#dtf = dtf.rename(columns={\"category\":\"y\", \"headline\":\"text\"})\n",
        "\n",
        "## print random rows\n",
        "dtf.head(5)"
      ],
      "execution_count": 25,
      "outputs": [
        {
          "output_type": "execute_result",
          "data": {
            "text/html": [
              "<div>\n",
              "<style scoped>\n",
              "    .dataframe tbody tr th:only-of-type {\n",
              "        vertical-align: middle;\n",
              "    }\n",
              "\n",
              "    .dataframe tbody tr th {\n",
              "        vertical-align: top;\n",
              "    }\n",
              "\n",
              "    .dataframe thead th {\n",
              "        text-align: right;\n",
              "    }\n",
              "</style>\n",
              "<table border=\"1\" class=\"dataframe\">\n",
              "  <thead>\n",
              "    <tr style=\"text-align: right;\">\n",
              "      <th></th>\n",
              "      <th>category</th>\n",
              "      <th>headline</th>\n",
              "      <th>authors</th>\n",
              "      <th>link</th>\n",
              "      <th>short_description</th>\n",
              "      <th>date</th>\n",
              "    </tr>\n",
              "  </thead>\n",
              "  <tbody>\n",
              "    <tr>\n",
              "      <th>0</th>\n",
              "      <td>CRIME</td>\n",
              "      <td>There Were 2 Mass Shootings In Texas Last Week...</td>\n",
              "      <td>Melissa Jeltsen</td>\n",
              "      <td>https://www.huffingtonpost.com/entry/texas-ama...</td>\n",
              "      <td>She left her husband. He killed their children...</td>\n",
              "      <td>2018-05-26</td>\n",
              "    </tr>\n",
              "    <tr>\n",
              "      <th>1</th>\n",
              "      <td>ENTERTAINMENT</td>\n",
              "      <td>Will Smith Joins Diplo And Nicky Jam For The 2...</td>\n",
              "      <td>Andy McDonald</td>\n",
              "      <td>https://www.huffingtonpost.com/entry/will-smit...</td>\n",
              "      <td>Of course it has a song.</td>\n",
              "      <td>2018-05-26</td>\n",
              "    </tr>\n",
              "    <tr>\n",
              "      <th>2</th>\n",
              "      <td>ENTERTAINMENT</td>\n",
              "      <td>Hugh Grant Marries For The First Time At Age 57</td>\n",
              "      <td>Ron Dicker</td>\n",
              "      <td>https://www.huffingtonpost.com/entry/hugh-gran...</td>\n",
              "      <td>The actor and his longtime girlfriend Anna Ebe...</td>\n",
              "      <td>2018-05-26</td>\n",
              "    </tr>\n",
              "    <tr>\n",
              "      <th>3</th>\n",
              "      <td>ENTERTAINMENT</td>\n",
              "      <td>Jim Carrey Blasts 'Castrato' Adam Schiff And D...</td>\n",
              "      <td>Ron Dicker</td>\n",
              "      <td>https://www.huffingtonpost.com/entry/jim-carre...</td>\n",
              "      <td>The actor gives Dems an ass-kicking for not fi...</td>\n",
              "      <td>2018-05-26</td>\n",
              "    </tr>\n",
              "    <tr>\n",
              "      <th>4</th>\n",
              "      <td>ENTERTAINMENT</td>\n",
              "      <td>Julianna Margulies Uses Donald Trump Poop Bags...</td>\n",
              "      <td>Ron Dicker</td>\n",
              "      <td>https://www.huffingtonpost.com/entry/julianna-...</td>\n",
              "      <td>The \"Dietland\" actress said using the bags is ...</td>\n",
              "      <td>2018-05-26</td>\n",
              "    </tr>\n",
              "  </tbody>\n",
              "</table>\n",
              "</div>"
            ],
            "text/plain": [
              "        category  ...        date\n",
              "0          CRIME  ...  2018-05-26\n",
              "1  ENTERTAINMENT  ...  2018-05-26\n",
              "2  ENTERTAINMENT  ...  2018-05-26\n",
              "3  ENTERTAINMENT  ...  2018-05-26\n",
              "4  ENTERTAINMENT  ...  2018-05-26\n",
              "\n",
              "[5 rows x 6 columns]"
            ]
          },
          "metadata": {
            "tags": []
          },
          "execution_count": 25
        }
      ]
    },
    {
      "cell_type": "code",
      "metadata": {
        "colab": {
          "base_uri": "https://localhost:8080/",
          "height": 198
        },
        "id": "6f2cOfxUoZg4",
        "outputId": "780ea0e9-e678-4b01-ebbc-6e0aac94a901"
      },
      "source": [
        "## filter categories\n",
        "dtf = dtf[ dtf[\"category\"].isin(['ENTERTAINMENT','POLITICS','TECH']) ][[\"category\",\"headline\"]]\n",
        "\n",
        "## rename columns\n",
        "#dtf = dtf.rename(columns={\"category\":\"y\", \"headline\":\"text\"})\n",
        "\n",
        "## print random rows\n",
        "dtf.head(5)"
      ],
      "execution_count": 27,
      "outputs": [
        {
          "output_type": "execute_result",
          "data": {
            "text/html": [
              "<div>\n",
              "<style scoped>\n",
              "    .dataframe tbody tr th:only-of-type {\n",
              "        vertical-align: middle;\n",
              "    }\n",
              "\n",
              "    .dataframe tbody tr th {\n",
              "        vertical-align: top;\n",
              "    }\n",
              "\n",
              "    .dataframe thead th {\n",
              "        text-align: right;\n",
              "    }\n",
              "</style>\n",
              "<table border=\"1\" class=\"dataframe\">\n",
              "  <thead>\n",
              "    <tr style=\"text-align: right;\">\n",
              "      <th></th>\n",
              "      <th>category</th>\n",
              "      <th>headline</th>\n",
              "    </tr>\n",
              "  </thead>\n",
              "  <tbody>\n",
              "    <tr>\n",
              "      <th>1</th>\n",
              "      <td>ENTERTAINMENT</td>\n",
              "      <td>Will Smith Joins Diplo And Nicky Jam For The 2...</td>\n",
              "    </tr>\n",
              "    <tr>\n",
              "      <th>2</th>\n",
              "      <td>ENTERTAINMENT</td>\n",
              "      <td>Hugh Grant Marries For The First Time At Age 57</td>\n",
              "    </tr>\n",
              "    <tr>\n",
              "      <th>3</th>\n",
              "      <td>ENTERTAINMENT</td>\n",
              "      <td>Jim Carrey Blasts 'Castrato' Adam Schiff And D...</td>\n",
              "    </tr>\n",
              "    <tr>\n",
              "      <th>4</th>\n",
              "      <td>ENTERTAINMENT</td>\n",
              "      <td>Julianna Margulies Uses Donald Trump Poop Bags...</td>\n",
              "    </tr>\n",
              "    <tr>\n",
              "      <th>5</th>\n",
              "      <td>ENTERTAINMENT</td>\n",
              "      <td>Morgan Freeman 'Devastated' That Sexual Harass...</td>\n",
              "    </tr>\n",
              "  </tbody>\n",
              "</table>\n",
              "</div>"
            ],
            "text/plain": [
              "        category                                           headline\n",
              "1  ENTERTAINMENT  Will Smith Joins Diplo And Nicky Jam For The 2...\n",
              "2  ENTERTAINMENT    Hugh Grant Marries For The First Time At Age 57\n",
              "3  ENTERTAINMENT  Jim Carrey Blasts 'Castrato' Adam Schiff And D...\n",
              "4  ENTERTAINMENT  Julianna Margulies Uses Donald Trump Poop Bags...\n",
              "5  ENTERTAINMENT  Morgan Freeman 'Devastated' That Sexual Harass..."
            ]
          },
          "metadata": {
            "tags": []
          },
          "execution_count": 27
        }
      ]
    },
    {
      "cell_type": "code",
      "metadata": {
        "colab": {
          "base_uri": "https://localhost:8080/",
          "height": 198
        },
        "id": "W_inAK4b37Ux",
        "outputId": "33078876-c945-4465-c739-2d8324f5294f"
      },
      "source": [
        "## rename columns\n",
        "dtf = dtf.rename(columns={\"category\":\"y\", \"headline\":\"text\"})\n",
        "dtf.sample(5)"
      ],
      "execution_count": 29,
      "outputs": [
        {
          "output_type": "execute_result",
          "data": {
            "text/html": [
              "<div>\n",
              "<style scoped>\n",
              "    .dataframe tbody tr th:only-of-type {\n",
              "        vertical-align: middle;\n",
              "    }\n",
              "\n",
              "    .dataframe tbody tr th {\n",
              "        vertical-align: top;\n",
              "    }\n",
              "\n",
              "    .dataframe thead th {\n",
              "        text-align: right;\n",
              "    }\n",
              "</style>\n",
              "<table border=\"1\" class=\"dataframe\">\n",
              "  <thead>\n",
              "    <tr style=\"text-align: right;\">\n",
              "      <th></th>\n",
              "      <th>y</th>\n",
              "      <th>text</th>\n",
              "    </tr>\n",
              "  </thead>\n",
              "  <tbody>\n",
              "    <tr>\n",
              "      <th>59470</th>\n",
              "      <td>POLITICS</td>\n",
              "      <td>How 'The Good Wife' Got The Law Right</td>\n",
              "    </tr>\n",
              "    <tr>\n",
              "      <th>70469</th>\n",
              "      <td>ENTERTAINMENT</td>\n",
              "      <td>Kim Kardashian Stayed In On New Year's Eve, Too</td>\n",
              "    </tr>\n",
              "    <tr>\n",
              "      <th>64914</th>\n",
              "      <td>POLITICS</td>\n",
              "      <td>Ben Carson Formally Suspends Presidential Camp...</td>\n",
              "    </tr>\n",
              "    <tr>\n",
              "      <th>25451</th>\n",
              "      <td>ENTERTAINMENT</td>\n",
              "      <td>A 'Pirates Of The Caribbean' Set Features Arou...</td>\n",
              "    </tr>\n",
              "    <tr>\n",
              "      <th>17952</th>\n",
              "      <td>POLITICS</td>\n",
              "      <td>While Americans Focus On A Category 4 Hurrican...</td>\n",
              "    </tr>\n",
              "  </tbody>\n",
              "</table>\n",
              "</div>"
            ],
            "text/plain": [
              "                   y                                               text\n",
              "59470       POLITICS              How 'The Good Wife' Got The Law Right\n",
              "70469  ENTERTAINMENT    Kim Kardashian Stayed In On New Year's Eve, Too\n",
              "64914       POLITICS  Ben Carson Formally Suspends Presidential Camp...\n",
              "25451  ENTERTAINMENT  A 'Pirates Of The Caribbean' Set Features Arou...\n",
              "17952       POLITICS  While Americans Focus On A Category 4 Hurrican..."
            ]
          },
          "metadata": {
            "tags": []
          },
          "execution_count": 29
        }
      ]
    },
    {
      "cell_type": "markdown",
      "metadata": {
        "id": "JVc9qjDd4WwG"
      },
      "source": [
        "In order to understand the composition of the dataset, I am going to look into the univariate distribution of the target by showing labels frequency with a bar plot."
      ]
    },
    {
      "cell_type": "code",
      "metadata": {
        "id": "B6dgD0T94b2x"
      },
      "source": [
        ""
      ],
      "execution_count": 35,
      "outputs": []
    },
    {
      "cell_type": "markdown",
      "metadata": {
        "id": "vzHreSyC6bdK"
      },
      "source": [
        "The dataset is imbalanced: the proportion of Tech news is really small compared to the others, this will make for models to recognize Tech news rather tough.\n",
        "Before explaining and building the models, I am going to give an example of preprocessing by cleaning text, removing stop words, and applying lemmatization. I will write a function and apply it to the whole data set."
      ]
    },
    {
      "cell_type": "code",
      "metadata": {
        "id": "Sr3DXZ-d6mGo"
      },
      "source": [
        ""
      ],
      "execution_count": 35,
      "outputs": []
    }
  ]
}